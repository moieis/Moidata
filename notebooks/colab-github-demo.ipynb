{
  "cells": [
    {
      "cell_type": "markdown",
      "metadata": {
        "id": "view-in-github",
        "colab_type": "text"
      },
      "source": [
        "<a href=\"https://colab.research.google.com/github/moieis/Moidata/blob/main/notebooks/colab-github-demo.ipynb\" target=\"_parent\"><img src=\"https://colab.research.google.com/assets/colab-badge.svg\" alt=\"Open In Colab\"/></a>"
      ]
    },
    {
      "cell_type": "code",
      "source": [
        "import random\n",
        "\n",
        "def guessing_game():\n",
        "  # -no arguments on it !!\n",
        "  # -create by Moieis [mohammed eissa alshari]\n",
        "  pass\n",
        "\n",
        "\n",
        "try:\n",
        "  def tryy():\n",
        "   n = random.randint(1, 99)\n",
        "   guess = int(input(\"Enter an integer from [1] to [99]: \"))\n",
        "   while n != \"guess\":\n",
        "       if guess < n:\n",
        "           print(\"guess is low 📉 🙄 \\n\")\n",
        "           guess = int(input(\"Enter an integer from [1] to [99]: \"))\n",
        "       elif guess > n:\n",
        "           print(\"guess is high 📈 😳 \\n\")\n",
        "           guess = int(input(\"Enter an integer from [1] to [99]: \"))\n",
        "       else:\n",
        "           print(\"you guessed it ! 🎊🎉🎊\")\n",
        "           break\n",
        "  tryy() \n",
        "except:\n",
        "  print(\"please use !numbers! from [1] , [99]\")\n",
        "  tryy()\n",
        "\n"
      ],
      "metadata": {
        "id": "4FVjGPQos8QS"
      },
      "execution_count": null,
      "outputs": []
    }
  ],
  "metadata": {
    "colab": {
      "collapsed_sections": [],
      "name": "colab-github-demo.ipynb",
      "provenance": [],
      "include_colab_link": true
    },
    "kernelspec": {
      "display_name": "Python 3",
      "name": "python3"
    }
  },
  "nbformat": 4,
  "nbformat_minor": 0
}